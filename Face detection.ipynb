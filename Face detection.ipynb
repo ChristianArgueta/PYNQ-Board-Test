{
 "cells": [
  {
   "cell_type": "markdown",
   "id": "ba51665f-2845-4be3-8653-78ebb6249b0d",
   "metadata": {},
   "source": [
    "   !pip install opencv-python\n",
    "   "
   ]
  },
  {
   "cell_type": "code",
   "execution_count": 5,
   "id": "0abd4f5f-0968-49e3-b4dc-f9c87f6df0d3",
   "metadata": {},
   "outputs": [
    {
     "ename": "ModuleNotFoundError",
     "evalue": "No module named 'cv2'",
     "output_type": "error",
     "traceback": [
      "\u001b[0;31m---------------------------------------------------------------------------\u001b[0m",
      "\u001b[0;31mModuleNotFoundError\u001b[0m                       Traceback (most recent call last)",
      "Cell \u001b[0;32mIn[5], line 1\u001b[0m\n\u001b[0;32m----> 1\u001b[0m \u001b[38;5;28;01mimport\u001b[39;00m \u001b[38;5;21;01mcv2\u001b[39;00m\n\u001b[1;32m      3\u001b[0m \u001b[38;5;66;03m# Load the pre-trained face detection model\u001b[39;00m\n\u001b[1;32m      4\u001b[0m face_cascade \u001b[38;5;241m=\u001b[39m cv2\u001b[38;5;241m.\u001b[39mCascadeClassifier(\u001b[38;5;124m'\u001b[39m\u001b[38;5;124mpath_to_xml_file/haarcascade_frontalface_default.xml\u001b[39m\u001b[38;5;124m'\u001b[39m)\n",
      "\u001b[0;31mModuleNotFoundError\u001b[0m: No module named 'cv2'"
     ]
    }
   ],
   "source": [
    "   import cv2\n",
    "\n",
    "   # Load the pre-trained face detection model\n",
    "   face_cascade = cv2.CascadeClassifier('path_to_xml_file/haarcascade_frontalface_default.xml')\n",
    "\n",
    "   # Initialize the video capture object\n",
    "   cap = cv2.VideoCapture(0)  # 0 represents the first connected camera\n",
    "\n",
    "   while True:\n",
    "       # Capture frame-by-frame\n",
    "       ret, frame = cap.read()\n",
    "\n",
    "       # Convert the frame to grayscale for face detection\n",
    "       gray = cv2.cvtColor(frame, cv2.COLOR_BGR2GRAY)\n",
    "\n",
    "       # Perform face detection\n",
    "       faces = face_cascade.detectMultiScale(gray, scaleFactor=1.1, minNeighbors=5, minSize=(30, 30))\n",
    "\n",
    "       # Draw rectangles around the detected faces\n",
    "       for (x, y, w, h) in faces:\n",
    "           cv2.rectangle(frame, (x, y), (x+w, y+h), (255, 0, 0), 2)\n",
    "\n",
    "       # Display the frame with detected faces\n",
    "       cv2.imshow('Face Detection', frame)\n",
    "\n",
    "       # Break the loop when 'q' is pressed\n",
    "       if cv2.waitKey(1) & 0xFF == ord('q'):\n",
    "           break\n",
    "\n",
    "   # Release the video capture object and close all windows\n",
    "   cap.release()\n",
    "   cv2.destroyAllWindows()\n",
    "   "
   ]
  }
 ],
 "metadata": {
  "kernelspec": {
   "display_name": "Python 3 (ipykernel)",
   "language": "python",
   "name": "python3"
  },
  "language_info": {
   "codemirror_mode": {
    "name": "ipython",
    "version": 3
   },
   "file_extension": ".py",
   "mimetype": "text/x-python",
   "name": "python",
   "nbconvert_exporter": "python",
   "pygments_lexer": "ipython3",
   "version": "3.11.7"
  }
 },
 "nbformat": 4,
 "nbformat_minor": 5
}
