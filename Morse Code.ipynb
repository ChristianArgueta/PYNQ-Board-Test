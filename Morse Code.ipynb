{
 "cells": [
  {
   "cell_type": "code",
   "execution_count": 2,
   "id": "3e4fb02e-c9f1-4f16-a143-319023607f5a",
   "metadata": {},
   "outputs": [
    {
     "ename": "ModuleNotFoundError",
     "evalue": "No module named 'pynq'",
     "output_type": "error",
     "traceback": [
      "\u001b[0;31m---------------------------------------------------------------------------\u001b[0m",
      "\u001b[0;31mModuleNotFoundError\u001b[0m                       Traceback (most recent call last)",
      "Cell \u001b[0;32mIn[2], line 1\u001b[0m\n\u001b[0;32m----> 1\u001b[0m \u001b[38;5;28;01mfrom\u001b[39;00m \u001b[38;5;21;01mpynq\u001b[39;00m \u001b[38;5;28;01mimport\u001b[39;00m Overlay\n\u001b[1;32m      2\u001b[0m \u001b[38;5;28;01mfrom\u001b[39;00m \u001b[38;5;21;01mpynq\u001b[39;00m\u001b[38;5;21;01m.\u001b[39;00m\u001b[38;5;21;01mlib\u001b[39;00m \u001b[38;5;28;01mimport\u001b[39;00m LED\n\u001b[1;32m      3\u001b[0m \u001b[38;5;28;01mimport\u001b[39;00m \u001b[38;5;21;01mtime\u001b[39;00m\n",
      "\u001b[0;31mModuleNotFoundError\u001b[0m: No module named 'pynq'"
     ]
    }
   ],
   "source": [
    "from pynq import Overlay\n",
    "from pynq.lib import LED\n",
    "import time\n",
    "\n",
    "# Load the base overlay\n",
    "base = Overlay(\"base.bit\")\n",
    "\n",
    "# Define the Morse code dictionary\n",
    "MORSE_CODE_DICT = {\n",
    "    'H': '....',\n",
    "    'E': '.',\n",
    "    'L': '.-..',\n",
    "    'O': '---'\n",
    "}\n",
    "\n",
    "# Define the LED\n",
    "green_led = LED(0)\n",
    "\n",
    "# Morse code timing\n",
    "DOT_DURATION = 0.2    # duration of a dot\n",
    "DASH_DURATION = 0.6   # duration of a dash\n",
    "SYMBOL_SPACE = 0.2    # space between symbols\n",
    "LETTER_SPACE = 0.6    # space between letters\n",
    "WORD_SPACE = 1.4      # space between words\n",
    "\n",
    "def flash_dot():\n",
    "    green_led.on()\n",
    "    time.sleep(DOT_DURATION)\n",
    "    green_led.off()\n",
    "    time.sleep(SYMBOL_SPACE)\n",
    "\n",
    "def flash_dash():\n",
    "    green_led.on()\n",
    "    time.sleep(DASH_DURATION)\n",
    "    green_led.off()\n",
    "    time.sleep(SYMBOL_SPACE)\n",
    "\n",
    "def flash_morse_code(message):\n",
    "    for letter in message:\n",
    "        if letter != ' ':\n",
    "            morse_code = MORSE_CODE_DICT.get(letter.upper(), '')\n",
    "            for symbol in morse_code:\n",
    "                if symbol == '.':\n",
    "                    flash_dot()\n",
    "                elif symbol == '-':\n",
    "                    flash_dash()\n",
    "            time.sleep(LETTER_SPACE - SYMBOL_SPACE)\n",
    "        else:\n",
    "            time.sleep(WORD_SPACE)\n",
    "\n",
    "# Message to flash\n",
    "message = \"HELLO\"\n",
    "flash_morse_code(message)\n"
   ]
  }
 ],
 "metadata": {
  "kernelspec": {
   "display_name": "Python 3 (ipykernel)",
   "language": "python",
   "name": "python3"
  },
  "language_info": {
   "codemirror_mode": {
    "name": "ipython",
    "version": 3
   },
   "file_extension": ".py",
   "mimetype": "text/x-python",
   "name": "python",
   "nbconvert_exporter": "python",
   "pygments_lexer": "ipython3",
   "version": "3.11.7"
  }
 },
 "nbformat": 4,
 "nbformat_minor": 5
}
